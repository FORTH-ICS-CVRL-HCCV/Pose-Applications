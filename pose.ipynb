{
 "cells": [
  {
   "cell_type": "code",
   "execution_count": null,
   "id": "762d48cb",
   "metadata": {},
   "outputs": [],
   "source": [
    "#!pip install mediapipe opencv-python numpy matplotlib\n",
    "#!pip install notebook\n",
    "#jupyter notebook\n",
    "#wget -O pose.jpg https://raw.githubusercontent.com/nkolot/ProHMR/refs/heads/master/example_data/images/pexels-anete-lusina-4793258.jpg"
   ]
  },
  {
   "cell_type": "code",
   "execution_count": null,
   "id": "f5128964",
   "metadata": {},
   "outputs": [],
   "source": [
    "!pip install mediapipe opencv-python numpy matplotlib"
   ]
  },
  {
   "cell_type": "code",
   "execution_count": null,
   "id": "aad59b10",
   "metadata": {},
   "outputs": [],
   "source": [
    "!wget -O pose.jpg https://raw.githubusercontent.com/nkolot/ProHMR/refs/heads/master/example_data/images/pexels-anete-lusina-4793258.jpg"
   ]
  },
  {
   "cell_type": "code",
   "execution_count": null,
   "id": "d0afafc6",
   "metadata": {},
   "outputs": [],
   "source": [
    "import cv2\n",
    "import mediapipe as mp\n",
    "import numpy as np\n",
    "import matplotlib.pyplot as plt"
   ]
  },
  {
   "cell_type": "code",
   "execution_count": null,
   "id": "ae305723",
   "metadata": {},
   "outputs": [],
   "source": [
    "mp_drawing = mp.solutions.drawing_utils\n",
    "mp_pose = mp.solutions.pose\n",
    "mp_drawing_styles = mp.solutions.drawing_styles"
   ]
  },
  {
   "cell_type": "code",
   "execution_count": null,
   "id": "8f9b7f84",
   "metadata": {},
   "outputs": [],
   "source": [
    "img = cv2.imread('pose.jpg')\n",
    "img = cv2.cvtColor(img, cv2.COLOR_BGR2RGB)\n"
   ]
  },
  {
   "cell_type": "code",
   "execution_count": null,
   "id": "801af794",
   "metadata": {},
   "outputs": [],
   "source": [
    "pose = mp_pose.Pose(static_image_mode=True, model_complexity=2, enable_segmentation=True, min_detection_confidence=0.5)\n",
    "results = pose.process(img)\n",
    "if results.pose_landmarks:\n",
    "    mp_drawing.draw_landmarks(\n",
    "        img, results.pose_landmarks, mp_pose.POSE_CONNECTIONS)\n",
    "plt.imshow(img)\n",
    "plt.axis('off')\n",
    "plt.show()\n"
   ]
  },
  {
   "cell_type": "code",
   "execution_count": null,
   "id": "f734a86c",
   "metadata": {},
   "outputs": [],
   "source": [
    "img_w, img_h, _ = img.shape\n",
    "\n",
    "#Printing the coordinates of the landmarks and the name of the landmarks\n",
    "for idx, landmark in enumerate(results.pose_landmarks.landmark):\n",
    "    x = int(landmark.x * img_w)\n",
    "    y = int(landmark.y * img_h)\n",
    "    print(f\"Landmark {idx}: ({x}, {y}) - {mp_pose.PoseLandmark(idx).name}\")\n"
   ]
  },
  {
   "cell_type": "code",
   "execution_count": null,
   "id": "e306d2e8",
   "metadata": {},
   "outputs": [],
   "source": [
    "#Numpy array of the landmarks in pixel coordinates\n",
    "landmarks_array = np.array([[int(landmark.x * img_w), int(landmark.y * img_h)] for landmark in results.pose_landmarks.landmark])\n",
    "\n",
    "#Numpy array of the landmarks in normalized coordinates\n",
    "landmarks_normalized = np.array([[landmark.x, landmark.y] for landmark in results.pose_landmarks.landmark])\n",
    "\n",
    "#Euclidean distance between two landmarks\n",
    "def euclidean_distance_np(landmark1, landmark2):\n",
    "    return np.linalg.norm(landmark1 - landmark2)\n",
    "\n",
    "def euclidean_distance_wo_np(landmark1, landmark2):\n",
    "    return ((landmark1[0] - landmark2[0]) ** 2 + (landmark1[1] - landmark2[1]) ** 2) ** 0.5\n",
    "\n",
    "#Euclidean distance between left shoulder and right shoulder\n",
    "left_shoulder = landmarks_normalized[mp_pose.PoseLandmark.LEFT_SHOULDER.value]\n",
    "right_shoulder = landmarks_normalized[mp_pose.PoseLandmark.RIGHT_SHOULDER.value]\n",
    "distance = euclidean_distance_np(left_shoulder, right_shoulder)\n",
    "print(f\"Euclidean distance between left shoulder and right shoulder: {distance}\")\n",
    "print(f\"Euclidean distance between left shoulder and right shoulder (without numpy): {euclidean_distance_wo_np(left_shoulder, right_shoulder)}\")\n"
   ]
  },
  {
   "cell_type": "code",
   "execution_count": null,
   "id": "c144afb0",
   "metadata": {},
   "outputs": [],
   "source": [
    "import cv2\n",
    "import mediapipe as mp\n",
    "import numpy as np\n",
    "import matplotlib.pyplot as plt\n",
    "#Run from webcam\n",
    "cap = cv2.VideoCapture(0)  # Change to filename for video input\n",
    "\n",
    "pose_detector = mp_pose.Pose(static_image_mode=False, model_complexity=2, enable_segmentation=True, min_detection_confidence=0.5)\n",
    "while cap.isOpened():\n",
    "    ret, frame = cap.read()\n",
    "    if not ret:\n",
    "        print(\"Failed to capture video\")\n",
    "        break\n",
    "    \n",
    "    image = cv2.cvtColor(frame, cv2.COLOR_BGR2RGB)\n",
    "    results = pose_detector.process(image)\n",
    "    \n",
    "    if results.pose_landmarks:\n",
    "        mp_drawing.draw_landmarks(\n",
    "            image, results.pose_landmarks, mp_pose.POSE_CONNECTIONS)\n",
    "    \n",
    "    cv2.imshow('Pose Detection', cv2.cvtColor(image, cv2.COLOR_RGB2BGR))\n",
    "    #Press 'q' to exit\n",
    "    if cv2.waitKey(5) & 0xFF == ord('q'):\n",
    "        break\n",
    "cap.release()\n",
    "cv2.destroyAllWindows()\n",
    "\n",
    "\n",
    "\n",
    "\n"
   ]
  }
 ],
 "metadata": {
  "kernelspec": {
   "display_name": "hy673",
   "language": "python",
   "name": "python3"
  },
  "language_info": {
   "codemirror_mode": {
    "name": "ipython",
    "version": 3
   },
   "file_extension": ".py",
   "mimetype": "text/x-python",
   "name": "python",
   "nbconvert_exporter": "python",
   "pygments_lexer": "ipython3",
   "version": "3.10.9"
  }
 },
 "nbformat": 4,
 "nbformat_minor": 5
}
